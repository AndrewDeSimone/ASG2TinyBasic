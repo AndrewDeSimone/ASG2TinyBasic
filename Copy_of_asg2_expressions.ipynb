{
  "nbformat": 4,
  "nbformat_minor": 0,
  "metadata": {
    "colab": {
      "provenance": [],
      "include_colab_link": true
    },
    "kernelspec": {
      "name": "python3",
      "display_name": "Python 3"
    },
    "language_info": {
      "name": "python"
    }
  },
  "cells": [
    {
      "cell_type": "markdown",
      "metadata": {
        "id": "view-in-github",
        "colab_type": "text"
      },
      "source": [
        "<a href=\"https://colab.research.google.com/github/Molarcylinder10/ASG2TinyBasic/blob/main/Copy_of_asg2_expressions.ipynb\" target=\"_parent\"><img src=\"https://colab.research.google.com/assets/colab-badge.svg\" alt=\"Open In Colab\"/></a>"
      ]
    },
    {
      "cell_type": "code",
      "execution_count": null,
      "metadata": {
        "colab": {
          "base_uri": "https://localhost:8080/"
        },
        "id": "fU6nHeG1F-_H",
        "outputId": "c89acb1a-3c8c-48d3-91f2-ae6c9a0742ea"
      },
      "outputs": [
        {
          "output_type": "stream",
          "name": "stdout",
          "text": [
            "/content/ply/ply\n",
            "--2023-02-17 15:20:52--  https://raw.githubusercontent.com/dabeaz/ply/master/src/ply/lex.py\n",
            "Resolving raw.githubusercontent.com (raw.githubusercontent.com)... 185.199.111.133, 185.199.108.133, 185.199.110.133, ...\n",
            "Connecting to raw.githubusercontent.com (raw.githubusercontent.com)|185.199.111.133|:443... connected.\n",
            "HTTP request sent, awaiting response... 200 OK\n",
            "Length: 35241 (34K) [text/plain]\n",
            "Saving to: ‘lex.py’\n",
            "\n",
            "lex.py              100%[===================>]  34.42K  --.-KB/s    in 0.002s  \n",
            "\n",
            "2023-02-17 15:20:52 (19.0 MB/s) - ‘lex.py’ saved [35241/35241]\n",
            "\n",
            "--2023-02-17 15:20:53--  https://raw.githubusercontent.com/dabeaz/ply/master/src/ply/yacc.py\n",
            "Resolving raw.githubusercontent.com (raw.githubusercontent.com)... 185.199.108.133, 185.199.109.133, 185.199.110.133, ...\n",
            "Connecting to raw.githubusercontent.com (raw.githubusercontent.com)|185.199.108.133|:443... connected.\n",
            "HTTP request sent, awaiting response... 200 OK\n",
            "Length: 98438 (96K) [text/plain]\n",
            "Saving to: ‘yacc.py’\n",
            "\n",
            "yacc.py             100%[===================>]  96.13K  --.-KB/s    in 0.009s  \n",
            "\n",
            "2023-02-17 15:20:53 (10.6 MB/s) - ‘yacc.py’ saved [98438/98438]\n",
            "\n",
            "('assignments', ('x', ('number', 3)), ('name', 'x'))\n"
          ]
        }
      ],
      "source": [
        "%mkdir \"ply\"\n",
        "%cd ply\n",
        "!wget \"https://raw.githubusercontent.com/dabeaz/ply/master/src/ply/lex.py\"\n",
        "!wget \"https://raw.githubusercontent.com/dabeaz/ply/master/src/ply/yacc.py\"\n",
        "\n",
        "__file__ = \"asg2_expressions.ipynb\"\n",
        "\n",
        "# -----------------------------------------------------------------------------\n",
        "# example.py\n",
        "#\n",
        "# Example of using PLY To parse the following simple grammar.\n",
        "#\n",
        "#   EXAMPLE VALID PROGRAM: \n",
        "#      x=3*4;y=4-1;y+3\n",
        "#      x=3*4;y=4-1;3+y\n",
        "#      4\n",
        "#      4+5\n",
        "#      4+(5+(6+7))\n",
        "#\n",
        "#   LONGER EXAMPLE PROGRAM\n",
        "#   PROGRAM==>assignment_list expression\n",
        "#          ==>assignment ; assignment ; assignment; assignment; expression\n",
        "#          ==>let NAME = expression ; assignment ; assignment; assignment; expression\n",
        "#          let w=5; let x=3; let y=4+x; let z=7; 3+x*y\n",
        "#   EXAMPLE INVALID PROGRAM: \n",
        "#      let x=3; let y=4; 3+x*y; let z=3; (you can't have assignment statements at the end)\n",
        "#      4+5+7 (you can't chain the plus operation)\n",
        "#\n",
        "#   CONTEXT FREE GRAMMAR:\n",
        "#\n",
        "#   program : [assignment_list] expression\n",
        "#\n",
        "#   assginment_list : assignment ;\n",
        "#              | assignment ; assignment_list\n",
        "#\n",
        "#   assignment : NAME = expression\n",
        "# \n",
        "#   expression : term PLUS term\n",
        "#              | term MINUS term\n",
        "#              | term\n",
        "#\n",
        "#   term       : factor TIMES factor\n",
        "#              | factor DIVIDE factor\n",
        "#              | factor\n",
        "#\n",
        "#   factor     : NUMBER\n",
        "#              | NAME\n",
        "#              | PLUS factor\n",
        "#              | MINUS factor\n",
        "#              | LPAREN expression RPAREN\n",
        "#\n",
        "# -----------------------------------------------------------------------------\n",
        "\n",
        "from ply.lex import lex\n",
        "from ply.yacc import yacc  \n",
        "\n",
        "# --- Tokenizer\n",
        "\n",
        "# All tokens must be named in advance.\n",
        "tokens = ( 'LET', 'PLUS', 'MINUS', 'TIMES', 'DIVIDE', 'LPAREN', 'RPAREN',\n",
        "           'NAME', 'NUMBER', 'EQUALS', 'SEMICOLON' )\n",
        "\n",
        "# Ignored characters\n",
        "t_ignore = ' \\t'\n",
        "\n",
        "# Token matching rules are written as regexs\n",
        "t_PLUS = r'\\+'\n",
        "t_MINUS = r'-'\n",
        "t_TIMES = r'\\*'\n",
        "t_DIVIDE = r'/'\n",
        "t_LPAREN = r'\\('\n",
        "t_RPAREN = r'\\)'\n",
        "t_EQUALS = r'='\n",
        "t_SEMICOLON = r';'\n",
        "\n",
        "# A function can be used if there is an associated action.\n",
        "# Write the matching regex in the docstring.\n",
        "def t_NUMBER(t):\n",
        "    r'\\d+'\n",
        "    t.value = int(t.value)\n",
        "    return t\n",
        "def t_NAME(t):\n",
        "    r'[a-zA-Z_][a-zA-Z0-9_]*'\n",
        "    # scan through all the reserved words and update the type\n",
        "    if t.value == 'let' or t.value == 'LET':\n",
        "        t.type = 'LET'\n",
        "    return t\n",
        "\n",
        "# Ignored token with an action associated with it\n",
        "def t_ignore_newline(t):\n",
        "    r'\\n+'\n",
        "    t.lexer.lineno += t.value.count('\\n')\n",
        "\n",
        "# Error handler for illegal characters\n",
        "def t_error(t):\n",
        "    print(f'Illegal character {t.value[0]!r}')\n",
        "    t.lexer.skip(1)\n",
        "\n",
        "# Build the lexer object\n",
        "lexer = lex()\n",
        "    \n",
        "# --- Parser\n",
        "\n",
        "# Write functions for each grammar rule which is\n",
        "# specified in the docstring.\n",
        "\n",
        "def p_program_withassignments(p):\n",
        "    '''\n",
        "    program : assignment_list expression\n",
        "    '''\n",
        "    p[0] = ('assignments',p[1], p[2])\n",
        "\n",
        "def p_program_noassignments(p):\n",
        "    '''\n",
        "    program : expression\n",
        "    '''\n",
        "    p[0] = p[1]\n",
        "    \n",
        "def p_assignment_listsingle(p):\n",
        "    '''\n",
        "    assignment_list : assignment SEMICOLON\n",
        "    '''\n",
        "    p[0] = (p[1])\n",
        "    \n",
        "def p_assignment_listmultiple(p):\n",
        "    '''\n",
        "    assignment_list : assignment SEMICOLON assignment_list\n",
        "    '''\n",
        "    p[0] = p[1] + p[3]\n",
        "    \n",
        "def p_assignment(p):\n",
        "    '''\n",
        "    assignment : LET NAME EQUALS expression\n",
        "    '''\n",
        "    p[0] = (p[2], p[4]) # this returns a tuple with variable name first, followed by the expression used to initialize the variable\n",
        "\n",
        "def p_expression(p):\n",
        "    '''\n",
        "    expression : term PLUS term\n",
        "               | term MINUS term\n",
        "    '''\n",
        "    # p is a sequence that represents rule contents.\n",
        "    #\n",
        "    # expression : term PLUS term\n",
        "    #   p[0]     : p[1] p[2] p[3]\n",
        "    # \n",
        "    p[0] = ('binop', p[2], p[1], p[3])\n",
        "\n",
        "def p_expression_term(p):\n",
        "    '''\n",
        "    expression : term\n",
        "    '''\n",
        "    p[0] = p[1]\n",
        "\n",
        "def p_term(p):\n",
        "    '''\n",
        "    term : factor TIMES factor\n",
        "         | factor DIVIDE factor\n",
        "    '''\n",
        "    p[0] = ('binop', p[2], p[1], p[3])\n",
        "\n",
        "def p_term_factor(p):\n",
        "    '''\n",
        "    term : factor\n",
        "    '''\n",
        "    p[0] = p[1]\n",
        "\n",
        "def p_factor_name(p):\n",
        "    '''\n",
        "    factor : NAME\n",
        "    '''\n",
        "    p[0] = ('name', p[1])\n",
        "\n",
        "def p_factor_number(p):\n",
        "    '''\n",
        "    factor : NUMBER\n",
        "    '''\n",
        "    p[0] = ('number', p[1])\n",
        "\n",
        "def p_factor_unary(p):\n",
        "    '''\n",
        "    factor : PLUS factor\n",
        "           | MINUS factor\n",
        "    '''\n",
        "    p[0] = ('unary', p[1], p[2])\n",
        "\n",
        "def p_factor_grouped(p):\n",
        "    '''\n",
        "    factor : LPAREN expression RPAREN\n",
        "    '''\n",
        "    p[0] = ('grouped', p[2])\n",
        "\n",
        "def p_error(p):\n",
        "    print(f'Syntax error at {p.value!r}')\n",
        "\n",
        "# Build the parser\n",
        "parser = yacc()\n",
        "\n",
        "# Parse an expression\n",
        "#programstr = 'let w=5; let x=3; let y=4+x; let z=7; 3+x*y'\n",
        "#programstr = '3+5'\n",
        "programstr = 'let x=3; x'\n",
        "ast = parser.parse(programstr)\n",
        "print(ast)\n",
        "\n",
        "# OK, you've got the parse tree, now evaluate it!\n",
        "# potential expr tuples:\n",
        "#   ('number', 3)\n",
        "#   ('name', x)\n",
        "#   ('binop', '+', expr[2], expr[3])\n",
        "#   ('binop', '-', expr[2], expr[3])\n",
        "#   ('binop', '*', expr[2], expr[3])\n",
        "#   ('binop', '/', expr[2], expr[3])\n",
        "#   ('unary', '-', expr[2])\n",
        "#   ('unary', '+', expr[2])\n",
        "#   ('grouped',expr)\n",
        "def evaluateExpression(expr, symboltable):\n",
        "  print(expr)\n",
        "  if expr[0] == 'grouped':\n",
        "    return evaluateExpression(expr[1], symboltable)\n",
        "  elif expr[0] == 'name':\n",
        "    return symboltable[expr[1]]\n",
        "  elif expr[0] == 'number':\n",
        "    return expr[1]\n",
        "  elif expr[0] == 'unary':\n",
        "    if expr[1] == '-':\n",
        "      # bug fix - this used to have expr[1] in the recursive call ... updated to expr[2]\n",
        "      return -evaluateExpression(expr[2], symboltable)\n",
        "    else:\n",
        "      # bug fix - this used to have expr[1] in the recursive call ... updated to expr[2]\n",
        "      return evaluateExpression(expr[2], symboltable)\n",
        "  elif expr[0] == 'binop':\n",
        "    if expr[1] == '+':\n",
        "      return evaluateExpression(expr[2], symboltable) + evaluateExpression(expr[3], symboltable)\n",
        "    elif expr[1] == '-':\n",
        "      return evaluateExpression(expr[2], symboltable) - evaluateExpression(expr[3], symboltable)\n",
        "    elif expr[1] == '*':\n",
        "      return evaluateExpression(expr[2], symboltable) * evaluateExpression(expr[3], symboltable)\n",
        "    elif expr[1] == '/':\n",
        "      return evaluateExpression(expr[2], symboltable) / evaluateExpression(expr[3], symboltable)\n",
        "  else:    \n",
        "    return 0\n",
        "\n",
        "# example symbollist: ('w', ('number', 5), 'x', ('number', 3), 'y', ('binop', '+', ('number', 4), ('name', 'x')), 'z', ('number', 7))\n",
        "def populateSymbols(symbollist):\n",
        "  symboltable = {}\n",
        "  for i in range(len(symbollist)):\n",
        "    if i%2==0:\n",
        "      symboltable[symbollist[i]] = evaluateExpression(symbollist[i+1], symboltable)\n",
        "  return symboltable\n",
        "\n",
        "def evaluate(ast):\n",
        "  if ast[0]=='assignments':\n",
        "    return evaluateExpression(ast[2], populateSymbols(ast[1]))\n",
        "  else:\n",
        "    return evaluateExpression(ast, {})"
      ]
    },
    {
      "cell_type": "code",
      "source": [
        "# at this point it should print 0 based on what I have given you\n",
        "print(evaluate(ast))\n"
      ],
      "metadata": {
        "id": "YhwcPzY1qORk",
        "colab": {
          "base_uri": "https://localhost:8080/"
        },
        "outputId": "c5cfd1d2-e64b-4b86-cda9-5cae8c9ea800"
      },
      "execution_count": null,
      "outputs": [
        {
          "output_type": "stream",
          "name": "stdout",
          "text": [
            "('number', 3)\n",
            "('name', 'x')\n",
            "3\n"
          ]
        }
      ]
    },
    {
      "cell_type": "code",
      "source": [
        "test = parser.parse('LET x=3; LET y=4; x+y')\n",
        "evaluate(test)"
      ],
      "metadata": {
        "colab": {
          "base_uri": "https://localhost:8080/"
        },
        "id": "RWBFa_Iq92wP",
        "outputId": "3f4b45e8-b1a1-40b9-c8c6-38586800dd0c"
      },
      "execution_count": null,
      "outputs": [
        {
          "output_type": "stream",
          "name": "stdout",
          "text": [
            "('number', 3)\n",
            "('number', 4)\n",
            "('binop', '+', ('name', 'x'), ('name', 'y'))\n",
            "('name', 'x')\n",
            "('name', 'y')\n"
          ]
        },
        {
          "output_type": "execute_result",
          "data": {
            "text/plain": [
              "7"
            ]
          },
          "metadata": {},
          "execution_count": 6
        }
      ]
    },
    {
      "cell_type": "code",
      "source": [
        "test = parser.parse('LET x=2; x*(2+x)')\n",
        "evaluate(test)"
      ],
      "metadata": {
        "colab": {
          "base_uri": "https://localhost:8080/"
        },
        "id": "iC7C-Fhk-EWA",
        "outputId": "b110709d-4ac4-40f4-c050-9ddbbe34682c"
      },
      "execution_count": null,
      "outputs": [
        {
          "output_type": "stream",
          "name": "stdout",
          "text": [
            "('number', 2)\n",
            "('binop', '*', ('name', 'x'), ('grouped', ('binop', '+', ('number', 2), ('name', 'x'))))\n",
            "('name', 'x')\n",
            "('grouped', ('binop', '+', ('number', 2), ('name', 'x')))\n",
            "('binop', '+', ('number', 2), ('name', 'x'))\n",
            "('number', 2)\n",
            "('name', 'x')\n"
          ]
        },
        {
          "output_type": "execute_result",
          "data": {
            "text/plain": [
              "8"
            ]
          },
          "metadata": {},
          "execution_count": 7
        }
      ]
    },
    {
      "cell_type": "code",
      "source": [
        "test = parser.parse('2+3')\n",
        "evaluate(test)"
      ],
      "metadata": {
        "colab": {
          "base_uri": "https://localhost:8080/"
        },
        "id": "5soJ3lSv-MwO",
        "outputId": "94c0745b-9ba2-413a-b317-c36a492ae8de"
      },
      "execution_count": null,
      "outputs": [
        {
          "output_type": "stream",
          "name": "stdout",
          "text": [
            "('binop', '+', ('number', 2), ('number', 3))\n",
            "('number', 2)\n",
            "('number', 3)\n"
          ]
        },
        {
          "output_type": "execute_result",
          "data": {
            "text/plain": [
              "5"
            ]
          },
          "metadata": {},
          "execution_count": 8
        }
      ]
    },
    {
      "cell_type": "code",
      "source": [
        "test = parser.parse('4*7')\n",
        "evaluate(test)"
      ],
      "metadata": {
        "colab": {
          "base_uri": "https://localhost:8080/"
        },
        "id": "DJfQRJ-Y-R7O",
        "outputId": "2ac51717-0726-49fd-c941-894c7247834d"
      },
      "execution_count": null,
      "outputs": [
        {
          "output_type": "stream",
          "name": "stdout",
          "text": [
            "('binop', '*', ('number', 4), ('number', 7))\n",
            "('number', 4)\n",
            "('number', 7)\n"
          ]
        },
        {
          "output_type": "execute_result",
          "data": {
            "text/plain": [
              "28"
            ]
          },
          "metadata": {},
          "execution_count": 9
        }
      ]
    },
    {
      "cell_type": "code",
      "source": [
        "test = parser.parse('x+2')\n",
        "evaluate(test)"
      ],
      "metadata": {
        "id": "u5Z5PilO-YM4",
        "outputId": "b66849a7-4529-4d90-a011-19769c6c2418",
        "colab": {
          "base_uri": "https://localhost:8080/",
          "height": 547
        }
      },
      "execution_count": null,
      "outputs": [
        {
          "output_type": "stream",
          "name": "stdout",
          "text": [
            "('binop', '+', ('name', 'x'), ('number', 2))\n",
            "('name', 'x')\n"
          ]
        },
        {
          "output_type": "error",
          "ename": "KeyError",
          "evalue": "ignored",
          "traceback": [
            "\u001b[0;31m---------------------------------------------------------------------------\u001b[0m",
            "\u001b[0;31mKeyError\u001b[0m                                  Traceback (most recent call last)",
            "\u001b[0;32masg2_expressions.ipynb\u001b[0m in \u001b[0;36m<module>\u001b[0;34m\u001b[0m\n\u001b[1;32m      1\u001b[0m \u001b[0mtest\u001b[0m \u001b[0;34m=\u001b[0m \u001b[0mparser\u001b[0m\u001b[0;34m.\u001b[0m\u001b[0mparse\u001b[0m\u001b[0;34m(\u001b[0m\u001b[0;34m'x+2'\u001b[0m\u001b[0;34m)\u001b[0m\u001b[0;34m\u001b[0m\u001b[0;34m\u001b[0m\u001b[0m\n\u001b[0;32m----> 2\u001b[0;31m \u001b[0mevaluate\u001b[0m\u001b[0;34m(\u001b[0m\u001b[0mtest\u001b[0m\u001b[0;34m)\u001b[0m\u001b[0;34m\u001b[0m\u001b[0;34m\u001b[0m\u001b[0m\n\u001b[0m",
            "\u001b[0;32masg2_expressions.ipynb\u001b[0m in \u001b[0;36mevaluate\u001b[0;34m(ast)\u001b[0m\n\u001b[1;32m    254\u001b[0m     \u001b[0;32mreturn\u001b[0m \u001b[0mevaluateExpression\u001b[0m\u001b[0;34m(\u001b[0m\u001b[0mast\u001b[0m\u001b[0;34m[\u001b[0m\u001b[0;36m2\u001b[0m\u001b[0;34m]\u001b[0m\u001b[0;34m,\u001b[0m \u001b[0mpopulateSymbols\u001b[0m\u001b[0;34m(\u001b[0m\u001b[0mast\u001b[0m\u001b[0;34m[\u001b[0m\u001b[0;36m1\u001b[0m\u001b[0;34m]\u001b[0m\u001b[0;34m)\u001b[0m\u001b[0;34m)\u001b[0m\u001b[0;34m\u001b[0m\u001b[0;34m\u001b[0m\u001b[0m\n\u001b[1;32m    255\u001b[0m   \u001b[0;32melse\u001b[0m\u001b[0;34m:\u001b[0m\u001b[0;34m\u001b[0m\u001b[0;34m\u001b[0m\u001b[0m\n\u001b[0;32m--> 256\u001b[0;31m     \u001b[0;32mreturn\u001b[0m \u001b[0mevaluateExpression\u001b[0m\u001b[0;34m(\u001b[0m\u001b[0mast\u001b[0m\u001b[0;34m,\u001b[0m \u001b[0;34m{\u001b[0m\u001b[0;34m}\u001b[0m\u001b[0;34m)\u001b[0m\u001b[0;34m\u001b[0m\u001b[0;34m\u001b[0m\u001b[0m\n\u001b[0m",
            "\u001b[0;32masg2_expressions.ipynb\u001b[0m in \u001b[0;36mevaluateExpression\u001b[0;34m(expr, symboltable)\u001b[0m\n\u001b[1;32m    232\u001b[0m   \u001b[0;32melif\u001b[0m \u001b[0mexpr\u001b[0m\u001b[0;34m[\u001b[0m\u001b[0;36m0\u001b[0m\u001b[0;34m]\u001b[0m \u001b[0;34m==\u001b[0m \u001b[0;34m'binop'\u001b[0m\u001b[0;34m:\u001b[0m\u001b[0;34m\u001b[0m\u001b[0;34m\u001b[0m\u001b[0m\n\u001b[1;32m    233\u001b[0m     \u001b[0;32mif\u001b[0m \u001b[0mexpr\u001b[0m\u001b[0;34m[\u001b[0m\u001b[0;36m1\u001b[0m\u001b[0;34m]\u001b[0m \u001b[0;34m==\u001b[0m \u001b[0;34m'+'\u001b[0m\u001b[0;34m:\u001b[0m\u001b[0;34m\u001b[0m\u001b[0;34m\u001b[0m\u001b[0m\n\u001b[0;32m--> 234\u001b[0;31m       \u001b[0;32mreturn\u001b[0m \u001b[0mevaluateExpression\u001b[0m\u001b[0;34m(\u001b[0m\u001b[0mexpr\u001b[0m\u001b[0;34m[\u001b[0m\u001b[0;36m2\u001b[0m\u001b[0;34m]\u001b[0m\u001b[0;34m,\u001b[0m \u001b[0msymboltable\u001b[0m\u001b[0;34m)\u001b[0m \u001b[0;34m+\u001b[0m \u001b[0mevaluateExpression\u001b[0m\u001b[0;34m(\u001b[0m\u001b[0mexpr\u001b[0m\u001b[0;34m[\u001b[0m\u001b[0;36m3\u001b[0m\u001b[0;34m]\u001b[0m\u001b[0;34m,\u001b[0m \u001b[0msymboltable\u001b[0m\u001b[0;34m)\u001b[0m\u001b[0;34m\u001b[0m\u001b[0;34m\u001b[0m\u001b[0m\n\u001b[0m\u001b[1;32m    235\u001b[0m     \u001b[0;32melif\u001b[0m \u001b[0mexpr\u001b[0m\u001b[0;34m[\u001b[0m\u001b[0;36m1\u001b[0m\u001b[0;34m]\u001b[0m \u001b[0;34m==\u001b[0m \u001b[0;34m'-'\u001b[0m\u001b[0;34m:\u001b[0m\u001b[0;34m\u001b[0m\u001b[0;34m\u001b[0m\u001b[0m\n\u001b[1;32m    236\u001b[0m       \u001b[0;32mreturn\u001b[0m \u001b[0mevaluateExpression\u001b[0m\u001b[0;34m(\u001b[0m\u001b[0mexpr\u001b[0m\u001b[0;34m[\u001b[0m\u001b[0;36m2\u001b[0m\u001b[0;34m]\u001b[0m\u001b[0;34m,\u001b[0m \u001b[0msymboltable\u001b[0m\u001b[0;34m)\u001b[0m \u001b[0;34m-\u001b[0m \u001b[0mevaluateExpression\u001b[0m\u001b[0;34m(\u001b[0m\u001b[0mexpr\u001b[0m\u001b[0;34m[\u001b[0m\u001b[0;36m3\u001b[0m\u001b[0;34m]\u001b[0m\u001b[0;34m,\u001b[0m \u001b[0msymboltable\u001b[0m\u001b[0;34m)\u001b[0m\u001b[0;34m\u001b[0m\u001b[0;34m\u001b[0m\u001b[0m\n",
            "\u001b[0;32masg2_expressions.ipynb\u001b[0m in \u001b[0;36mevaluateExpression\u001b[0;34m(expr, symboltable)\u001b[0m\n\u001b[1;32m    220\u001b[0m     \u001b[0;32mreturn\u001b[0m \u001b[0mevaluateExpression\u001b[0m\u001b[0;34m(\u001b[0m\u001b[0mexpr\u001b[0m\u001b[0;34m[\u001b[0m\u001b[0;36m1\u001b[0m\u001b[0;34m]\u001b[0m\u001b[0;34m,\u001b[0m \u001b[0msymboltable\u001b[0m\u001b[0;34m)\u001b[0m\u001b[0;34m\u001b[0m\u001b[0;34m\u001b[0m\u001b[0m\n\u001b[1;32m    221\u001b[0m   \u001b[0;32melif\u001b[0m \u001b[0mexpr\u001b[0m\u001b[0;34m[\u001b[0m\u001b[0;36m0\u001b[0m\u001b[0;34m]\u001b[0m \u001b[0;34m==\u001b[0m \u001b[0;34m'name'\u001b[0m\u001b[0;34m:\u001b[0m\u001b[0;34m\u001b[0m\u001b[0;34m\u001b[0m\u001b[0m\n\u001b[0;32m--> 222\u001b[0;31m     \u001b[0;32mreturn\u001b[0m \u001b[0msymboltable\u001b[0m\u001b[0;34m[\u001b[0m\u001b[0mexpr\u001b[0m\u001b[0;34m[\u001b[0m\u001b[0;36m1\u001b[0m\u001b[0;34m]\u001b[0m\u001b[0;34m]\u001b[0m\u001b[0;34m\u001b[0m\u001b[0;34m\u001b[0m\u001b[0m\n\u001b[0m\u001b[1;32m    223\u001b[0m   \u001b[0;32melif\u001b[0m \u001b[0mexpr\u001b[0m\u001b[0;34m[\u001b[0m\u001b[0;36m0\u001b[0m\u001b[0;34m]\u001b[0m \u001b[0;34m==\u001b[0m \u001b[0;34m'number'\u001b[0m\u001b[0;34m:\u001b[0m\u001b[0;34m\u001b[0m\u001b[0;34m\u001b[0m\u001b[0m\n\u001b[1;32m    224\u001b[0m     \u001b[0;32mreturn\u001b[0m \u001b[0mexpr\u001b[0m\u001b[0;34m[\u001b[0m\u001b[0;36m1\u001b[0m\u001b[0;34m]\u001b[0m\u001b[0;34m\u001b[0m\u001b[0;34m\u001b[0m\u001b[0m\n",
            "\u001b[0;31mKeyError\u001b[0m: 'x'"
          ]
        }
      ]
    }
  ]
}